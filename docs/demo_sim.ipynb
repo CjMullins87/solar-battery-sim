{
 "cells": [
  {
   "cell_type": "code",
   "execution_count": 1,
   "metadata": {},
   "outputs": [
    {
     "data": {
      "text/plain": [
       "SolarSimResult(p_success=np.float64(0.8911), total_battery_capacity=40.5, total_accessible_capacity=38.474999999999994, avg_net_consumption=-3.4645, raw_outcomes=None)"
      ]
     },
     "execution_count": 1,
     "metadata": {},
     "output_type": "execute_result"
    }
   ],
   "source": [
    "from solar_sim import SolarBatterySim, Battery, NetConsumptionProfile\n",
    "\n",
    "battery_one = Battery(13.5, 0.05, [0.1, 0.05, 0.05])\n",
    "battery_two = Battery(13.5, 0.05, [0.1, 0.05, 0.05])\n",
    "battery_three = Battery(13.5, 0.05, [0.1, 0.05, 0.05])\n",
    "\n",
    "profile = NetConsumptionProfile(-3.4645, 10.004, [0.01, 0.01, 0.01, 0.01, 0.01])\n",
    "\n",
    "sim = SolarBatterySim(\n",
    "    label=\"Test_sim\",\n",
    "    n_simulations=200_000,\n",
    "    n_consecutive_days=4,\n",
    "    batteries=[battery_one, battery_two, battery_three],\n",
    "    profile=profile,\n",
    ")\n",
    "\n",
    "sim.simple_sim()"
   ]
  },
  {
   "cell_type": "code",
   "execution_count": 2,
   "metadata": {},
   "outputs": [
    {
     "data": {
      "text/plain": [
       "{'Test_sim_y0': SolarSimResult(p_success=np.float64(0.8902), total_battery_capacity=40.5, total_accessible_capacity=38.474999999999994, avg_net_consumption=-3.4645, raw_outcomes=None),\n",
       " 'Test_sim_y1': SolarSimResult(p_success=np.float64(0.8481), total_battery_capacity=36.45, total_accessible_capacity=34.6275, avg_net_consumption=-3.499145, raw_outcomes=None),\n",
       " 'Test_sim_y2': SolarSimResult(p_success=np.float64(0.8259), total_battery_capacity=34.6275, total_accessible_capacity=32.896125, avg_net_consumption=-3.53413645, raw_outcomes=None),\n",
       " 'Test_sim_y3': SolarSimResult(p_success=np.float64(0.8022), total_battery_capacity=32.896125, total_accessible_capacity=31.25131875, avg_net_consumption=-3.5694778145, raw_outcomes=None),\n",
       " 'Test_sim_y4': SolarSimResult(p_success=np.float64(0.7993), total_battery_capacity=32.896125, total_accessible_capacity=31.25131875, avg_net_consumption=-3.605172592645, raw_outcomes=None),\n",
       " 'Test_sim_y5': SolarSimResult(p_success=np.float64(0.7981), total_battery_capacity=32.896125, total_accessible_capacity=31.25131875, avg_net_consumption=-3.64122431857145, raw_outcomes=None),\n",
       " 'Test_sim_y6': SolarSimResult(p_success=np.float64(0.7973), total_battery_capacity=32.896125, total_accessible_capacity=31.25131875, avg_net_consumption=-3.64122431857145, raw_outcomes=None),\n",
       " 'Test_sim_y7': SolarSimResult(p_success=np.float64(0.7974), total_battery_capacity=32.896125, total_accessible_capacity=31.25131875, avg_net_consumption=-3.64122431857145, raw_outcomes=None),\n",
       " 'Test_sim_y8': SolarSimResult(p_success=np.float64(0.7978), total_battery_capacity=32.896125, total_accessible_capacity=31.25131875, avg_net_consumption=-3.64122431857145, raw_outcomes=None),\n",
       " 'Test_sim_y9': SolarSimResult(p_success=np.float64(0.7975), total_battery_capacity=32.896125, total_accessible_capacity=31.25131875, avg_net_consumption=-3.64122431857145, raw_outcomes=None)}"
      ]
     },
     "execution_count": 2,
     "metadata": {},
     "output_type": "execute_result"
    }
   ],
   "source": [
    "sim.multi_year_sim(10)"
   ]
  },
  {
   "cell_type": "code",
   "execution_count": null,
   "metadata": {},
   "outputs": [],
   "source": []
  }
 ],
 "metadata": {
  "kernelspec": {
   "display_name": "sandbox",
   "language": "python",
   "name": "python3"
  },
  "language_info": {
   "codemirror_mode": {
    "name": "ipython",
    "version": 3
   },
   "file_extension": ".py",
   "mimetype": "text/x-python",
   "name": "python",
   "nbconvert_exporter": "python",
   "pygments_lexer": "ipython3",
   "version": "3.12.4"
  }
 },
 "nbformat": 4,
 "nbformat_minor": 2
}
